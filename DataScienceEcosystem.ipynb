{
  "metadata": {
    "kernelspec": {
      "name": "python",
      "display_name": "Python (Pyodide)",
      "language": "python"
    },
    "language_info": {
      "codemirror_mode": {
        "name": "python",
        "version": 3
      },
      "file_extension": ".py",
      "mimetype": "text/x-python",
      "name": "python",
      "nbconvert_exporter": "python",
      "pygments_lexer": "ipython3",
      "version": "3.8"
    }
  },
  "nbformat_minor": 5,
  "nbformat": 4,
  "cells": [
    {
      "id": "ca15b854-9ea0-40fb-9b4d-33b74fbcbd4e",
      "cell_type": "code",
      "source": "# Data Science Tools and Ecosystem\n",
      "metadata": {
        "trusted": true
      },
      "outputs": [],
      "execution_count": 1
    },
    {
      "id": "7a8128a6-358a-4f96-981a-88b6bd9bb41d",
      "cell_type": "markdown",
      "source": "In this notebook, Data Science Tools and Ecosystem are summarized.\n",
      "metadata": {}
    },
    {
      "id": "eae4b58c-8601-4fe3-a6f7-55664a919777",
      "cell_type": "markdown",
      "source": "**Objectives:**\n- List popular languages for Data Science\n- List commonly used libraries for Data Science\n- Create tables using markdown\n- Perform arithmetic operations in Python\n- Share Jupyter notebooks on GitHub\n",
      "metadata": {}
    },
    {
      "id": "bfceebd4-f4e9-483f-bbaf-8f8399a9e210",
      "cell_type": "markdown",
      "source": "",
      "metadata": {}
    },
    {
      "id": "678331f6-fc79-4528-b846-e785556d6ae6",
      "cell_type": "markdown",
      "source": "Some of the popular languages that Data Scientists use are:\n1. Python\n2. R\n3. SQL\n4. Julia\n",
      "metadata": {}
    },
    {
      "id": "d1cf6139-7c18-4f90-a4ff-4d4840e8a79f",
      "cell_type": "markdown",
      "source": "Some of the commonly used libraries used by Data Scientists include:\n1. Pandas\n2. NumPy\n3. Matplotlib\n4. Scikit-learn\n",
      "metadata": {}
    },
    {
      "id": "a68256e1-6b42-4f45-b466-73a8d052a36f",
      "cell_type": "markdown",
      "source": "| Data Science Tools        |\n|---------------------------|\n| Jupyter Notebook          |\n| RStudio                   |\n| Apache Zeppelin           |\n",
      "metadata": {}
    },
    {
      "id": "d2583e73-e98f-4645-afb8-73557688c389",
      "cell_type": "markdown",
      "source": "### Below are a few examples of evaluating arithmetic expressions in Python.\n",
      "metadata": {}
    },
    {
      "id": "b7f74b65-063c-412b-b00e-44a4b5c23804",
      "cell_type": "code",
      "source": "# This a simple arithmetic expression to multiply then add integers\n(3 * 4) + 5\n",
      "metadata": {
        "trusted": true
      },
      "outputs": [
        {
          "execution_count": 6,
          "output_type": "execute_result",
          "data": {
            "text/plain": "17"
          },
          "metadata": {}
        }
      ],
      "execution_count": 6
    },
    {
      "id": "7e795dc7-adb6-471f-976f-aabc1e865a92",
      "cell_type": "code",
      "source": "# This will convert 200 minutes to hours by dividing by 60\n200 / 60\n",
      "metadata": {
        "trusted": true
      },
      "outputs": [
        {
          "execution_count": 7,
          "output_type": "execute_result",
          "data": {
            "text/plain": "3.3333333333333335"
          },
          "metadata": {}
        }
      ],
      "execution_count": 7
    },
    {
      "id": "fd777db9-43c9-40ab-8851-49863d91d5fa",
      "cell_type": "markdown",
      "source": "## Author  \nAshutosh Vikram Singh\n",
      "metadata": {}
    },
    {
      "id": "cb1f4e3b-4848-4d35-8cf9-59212f961226",
      "cell_type": "code",
      "source": "",
      "metadata": {
        "trusted": true
      },
      "outputs": [],
      "execution_count": null
    }
  ]
}